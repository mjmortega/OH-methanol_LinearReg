{
 "cells": [
  {
   "cell_type": "markdown",
   "metadata": {},
   "source": [
    "# Kinetic Parameters Calculation for OH-CH<sub>3</sub>OH Gas-Phase Reaction"
   ]
  },
  {
   "cell_type": "code",
   "execution_count": 4,
   "metadata": {},
   "outputs": [],
   "source": [
    "# import libraries\n",
    "import numpy as np\n",
    "import pandas as pd\n",
    "import math\n",
    "import copy\n",
    "import matplotlib.pyplot as plt\n",
    "from sklearn.linear_model import LinearRegression\n",
    "from sklearn.metrics import mean_squared_error"
   ]
  },
  {
   "cell_type": "markdown",
   "metadata": {},
   "source": [
    "## Scientific Background"
   ]
  },
  {
   "cell_type": "markdown",
   "metadata": {},
   "source": [
    "### Overview\n",
    "\n",
    "This project focuses on calculating the kinetic parameters of the OH-CH<sub>3</sub>OH gas-phase reaction using an extended version of the Arrhenius equation known as the Kooij's equation. The Kooij's equation provides a more accurate representation of the temperature dependence of reaction rates, particularly over a wide temperature range."
   ]
  },
  {
   "cell_type": "markdown",
   "metadata": {},
   "source": [
    "### Arrhenius Equation\n",
    "The Arrhenius equation is a fundamental formula in chemical kinetics that describes the temperature dependence of reaction rates:\n",
    "\n",
    "> <div align=\"center\"><em>k = A exp(-B/T) </em></div>\n",
    "\n",
    "where:\n",
    "* *k* is the rate constant at temperature *T*,\n",
    "* *A* is the pre-exponential factor, representing the rate of molecular collisions with the correct orientation for reaction,\n",
    "* *E* is the activation energy,\n",
    "* *R* is the universal gas constant.\n",
    "\n",
    "The exponential term represents the fraction of collisions with sufficient energy for the reaction to occur."
   ]
  },
  {
   "cell_type": "markdown",
   "metadata": {},
   "source": [
    "### Extended Arrhenius Equation (Kooij's Equation)"
   ]
  },
  {
   "cell_type": "markdown",
   "metadata": {},
   "source": [
    "Over limited temperature ranges, the Arrhenius equation adequately describes the temperature dependence of bimolecular reactions. However, over extended temperature ranges, many reactions exhibit curved Arrhenius plots due to multiple reaction pathways, formation of pre-reactive complexes, quantum tunneling at low temperatures, and other factors.\n",
    "\n",
    "To account for this curvature, we use the Kooij's equation, also known as the \"extended\" Arrhenius expression:\n",
    "\n",
    "> <div align=\"center\"><em>k = A exp(-B/T)(T/300)<sup>n</sup></em></div>\n",
    "\n",
    "where:\n",
    "* *B* = E/R\n",
    "* *n* is an additional parameter adjusted to fit the data."
   ]
  },
  {
   "cell_type": "markdown",
   "metadata": {},
   "source": [
    "### Linear Kooij's Equation"
   ]
  },
  {
   "cell_type": "markdown",
   "metadata": {},
   "source": [
    "The Kooij's Equation can be transformed into a linear form, *y = wx + b*:\n",
    "\n",
    "> <div align=\"center\"><em>ln(k/T<sup>n</sup>) = -B(1/T) + ln(A/300<sup>n</sup>)</em></div>\n",
    "\n",
    "where:\n",
    "* *y = ln(k/T<sup>n</sup>)*\n",
    "* *w = -B, slope*\n",
    "* *x = 1/T*\n",
    "* *b = ln(A/300<sup>n</sup>), intercept*"
   ]
  },
  {
   "cell_type": "markdown",
   "metadata": {},
   "source": [
    "## Data Preparation and Visualization"
   ]
  },
  {
   "cell_type": "markdown",
   "metadata": {},
   "source": [
    "For simplicity, *n* is already given as 2.72 based on the data of the reaction. The objective of this project is to find the kinetic parameters *A* and *B*. Note that data at temperatures greater than 1344<sup>o</sup>C were excluded due to a high %error in the manually fitted parameters from the paper."
   ]
  },
  {
   "cell_type": "code",
   "execution_count": null,
   "metadata": {},
   "outputs": [
    {
     "data": {
      "application/vnd.microsoft.datawrangler.viewer.v0+json": {
       "columns": [
        {
         "name": "index",
         "rawType": "int64",
         "type": "integer"
        },
        {
         "name": "Temperature, T (Kelvin)",
         "rawType": "float64",
         "type": "float"
        },
        {
         "name": "Rate constant, k (cm^3 mol^-1 s^-1) ",
         "rawType": "float64",
         "type": "float"
        },
        {
         "name": "1/T",
         "rawType": "float64",
         "type": "float"
        },
        {
         "name": "ln(k/(T^2.72))",
         "rawType": "float64",
         "type": "float"
        }
       ],
       "conversionMethod": "pd.DataFrame",
       "ref": "c19c1547-8115-4ac1-917e-3c9c98ef3eca",
       "rows": [
        [
         "0",
         "240.0",
         "6.57e-13",
         "0.004166667",
         "-42.95843025"
        ],
        [
         "1",
         "296.0",
         "8.61e-13",
         "0.003378378",
         "-43.25845961"
        ],
        [
         "2",
         "350.0",
         "1.25e-12",
         "0.002857143",
         "-43.34145574"
        ],
        [
         "3",
         "400.0",
         "1.41e-12",
         "0.0025",
         "-43.58421498"
        ],
        [
         "4",
         "440.0",
         "1.62e-12",
         "0.002272727",
         "-43.70462222"
        ],
        [
         "5",
         "981.0",
         "1.07e-11",
         "0.001019368",
         "-44.00137412"
        ],
        [
         "6",
         "1017.0",
         "1.2e-11",
         "0.000983284",
         "-43.9805853"
        ],
        [
         "7",
         "1081.0",
         "1.17e-11",
         "0.000925069",
         "-44.16896505"
        ],
        [
         "8",
         "1109.0",
         "1.22e-11",
         "0.000901713",
         "-44.19831828"
        ],
        [
         "9",
         "1186.0",
         "1.26e-11",
         "0.00084317",
         "-44.35145362"
        ],
        [
         "10",
         "1231.0",
         "1.44e-11",
         "0.000812348",
         "-44.31954528"
        ],
        [
         "11",
         "993.0",
         "9.7e-12",
         "0.001007049",
         "-44.12913525"
        ],
        [
         "12",
         "1090.0",
         "1.14e-11",
         "0.000917431",
         "-44.21730667"
        ],
        [
         "13",
         "961.0",
         "9.8e-12",
         "0.001040583",
         "-44.02981692"
        ],
        [
         "14",
         "988.0",
         "1e-11",
         "0.001012146",
         "-44.08504902"
        ],
        [
         "15",
         "1058.0",
         "1.12e-11",
         "0.00094518",
         "-44.15827074"
        ],
        [
         "16",
         "1225.0",
         "1.41e-11",
         "0.000816327",
         "-44.32725979"
        ],
        [
         "17",
         "1072.0",
         "1.02e-11",
         "0.000932836",
         "-44.28683864"
        ],
        [
         "18",
         "1008.0",
         "8.52e-12",
         "0.000992063",
         "-44.29937256"
        ],
        [
         "19",
         "919.0",
         "8.47e-12",
         "0.001088139",
         "-44.05382886"
        ],
        [
         "20",
         "1231.0",
         "1.48e-11",
         "0.000812348",
         "-44.29077732"
        ],
        [
         "21",
         "1159.0",
         "1.33e-11",
         "0.000862813",
         "-44.23370801"
        ],
        [
         "22",
         "1344.0",
         "1.86e-11",
         "0.000744048",
         "-44.30112255"
        ],
        [
         "23",
         "1290.0",
         "1.72e-11",
         "0.000775194",
         "-44.26783292"
        ],
        [
         "24",
         "963.0",
         "8.95e-12",
         "0.001038422",
         "-44.12591286"
        ],
        [
         "25",
         "1232.0",
         "1.49e-11",
         "0.000811688",
         "-44.28625197"
        ],
        [
         "26",
         "1056.0",
         "1.16e-11",
         "0.00094697",
         "-44.11731824"
        ],
        [
         "27",
         "235.0",
         "6.22e-13",
         "0.004255319",
         "-42.9559089"
        ],
        [
         "28",
         "235.0",
         "6.43e-13",
         "0.004255319",
         "-42.92270427"
        ],
        [
         "29",
         "244.0",
         "6.73e-13",
         "0.004098361",
         "-42.97932864"
        ],
        [
         "30",
         "251.0",
         "7.29e-13",
         "0.003984064",
         "-42.97633466"
        ],
        [
         "31",
         "259.0",
         "7.11e-13",
         "0.003861004",
         "-43.08667629"
        ],
        [
         "32",
         "259.0",
         "6.85e-13",
         "0.003861004",
         "-43.12392988"
        ],
        [
         "33",
         "261.0",
         "6.7e-13",
         "0.003831418",
         "-43.16699419"
        ],
        [
         "34",
         "273.0",
         "7.67e-13",
         "0.003663004",
         "-43.15405288"
        ],
        [
         "35",
         "273.0",
         "7.51e-13",
         "0.003663004",
         "-43.17513403"
        ],
        [
         "36",
         "285.0",
         "8.66e-13",
         "0.003508772",
         "-43.14966206"
        ],
        [
         "37",
         "298.0",
         "9.12e-13",
         "0.003355705",
         "-43.21923069"
        ],
        [
         "38",
         "298.0",
         "9.18e-13",
         "0.003355705",
         "-43.21267329"
        ],
        [
         "39",
         "298.0",
         "8.14e-13",
         "0.003355705",
         "-43.33291031"
        ],
        [
         "40",
         "298.0",
         "8.45e-13",
         "0.003355705",
         "-43.29553405"
        ],
        [
         "41",
         "298.0",
         "9.47e-13",
         "0.003355705",
         "-43.18157159"
        ],
        [
         "42",
         "298.0",
         "8.69e-13",
         "0.003355705",
         "-43.26752755"
        ],
        [
         "43",
         "315.0",
         "9.53e-13",
         "0.003174603",
         "-43.32615907"
        ],
        [
         "44",
         "330.0",
         "1.03e-12",
         "0.003030303",
         "-43.37499433"
        ],
        [
         "45",
         "345.0",
         "1.13e-12",
         "0.002898551",
         "-43.4032443"
        ],
        [
         "46",
         "360.0",
         "1.35e-12",
         "0.002777778",
         "-43.34111949"
        ],
        [
         "47",
         "360.0",
         "1.23e-12",
         "0.002777778",
         "-43.43420991"
        ],
        [
         "48",
         "294.0",
         "9.34e-13",
         "0.003401361",
         "-43.15863692"
        ],
        [
         "49",
         "332.0",
         "1.09e-12",
         "0.003012048",
         "-43.33481054"
        ]
       ],
       "shape": {
        "columns": 4,
        "rows": 91
       }
      },
      "text/html": [
       "<div>\n",
       "<style scoped>\n",
       "    .dataframe tbody tr th:only-of-type {\n",
       "        vertical-align: middle;\n",
       "    }\n",
       "\n",
       "    .dataframe tbody tr th {\n",
       "        vertical-align: top;\n",
       "    }\n",
       "\n",
       "    .dataframe thead th {\n",
       "        text-align: right;\n",
       "    }\n",
       "</style>\n",
       "<table border=\"1\" class=\"dataframe\">\n",
       "  <thead>\n",
       "    <tr style=\"text-align: right;\">\n",
       "      <th></th>\n",
       "      <th>Temperature, T (Kelvin)</th>\n",
       "      <th>Rate constant, k (cm^3 mol^-1 s^-1)</th>\n",
       "      <th>1/T</th>\n",
       "      <th>ln(k/(T^2.72))</th>\n",
       "    </tr>\n",
       "  </thead>\n",
       "  <tbody>\n",
       "    <tr>\n",
       "      <th>0</th>\n",
       "      <td>240.0</td>\n",
       "      <td>6.570000e-13</td>\n",
       "      <td>0.004167</td>\n",
       "      <td>-42.958430</td>\n",
       "    </tr>\n",
       "    <tr>\n",
       "      <th>1</th>\n",
       "      <td>296.0</td>\n",
       "      <td>8.610000e-13</td>\n",
       "      <td>0.003378</td>\n",
       "      <td>-43.258460</td>\n",
       "    </tr>\n",
       "    <tr>\n",
       "      <th>2</th>\n",
       "      <td>350.0</td>\n",
       "      <td>1.250000e-12</td>\n",
       "      <td>0.002857</td>\n",
       "      <td>-43.341456</td>\n",
       "    </tr>\n",
       "    <tr>\n",
       "      <th>3</th>\n",
       "      <td>400.0</td>\n",
       "      <td>1.410000e-12</td>\n",
       "      <td>0.002500</td>\n",
       "      <td>-43.584215</td>\n",
       "    </tr>\n",
       "    <tr>\n",
       "      <th>4</th>\n",
       "      <td>440.0</td>\n",
       "      <td>1.620000e-12</td>\n",
       "      <td>0.002273</td>\n",
       "      <td>-43.704622</td>\n",
       "    </tr>\n",
       "    <tr>\n",
       "      <th>...</th>\n",
       "      <td>...</td>\n",
       "      <td>...</td>\n",
       "      <td>...</td>\n",
       "      <td>...</td>\n",
       "    </tr>\n",
       "    <tr>\n",
       "      <th>86</th>\n",
       "      <td>465.0</td>\n",
       "      <td>1.350000e-12</td>\n",
       "      <td>0.002151</td>\n",
       "      <td>-44.037258</td>\n",
       "    </tr>\n",
       "    <tr>\n",
       "      <th>87</th>\n",
       "      <td>570.0</td>\n",
       "      <td>2.060000e-12</td>\n",
       "      <td>0.001754</td>\n",
       "      <td>-44.168446</td>\n",
       "    </tr>\n",
       "    <tr>\n",
       "      <th>88</th>\n",
       "      <td>597.0</td>\n",
       "      <td>2.670000e-12</td>\n",
       "      <td>0.001675</td>\n",
       "      <td>-44.034957</td>\n",
       "    </tr>\n",
       "    <tr>\n",
       "      <th>89</th>\n",
       "      <td>669.0</td>\n",
       "      <td>2.790000e-12</td>\n",
       "      <td>0.001495</td>\n",
       "      <td>-44.300712</td>\n",
       "    </tr>\n",
       "    <tr>\n",
       "      <th>90</th>\n",
       "      <td>803.0</td>\n",
       "      <td>5.760000e-12</td>\n",
       "      <td>0.001245</td>\n",
       "      <td>-44.072408</td>\n",
       "    </tr>\n",
       "  </tbody>\n",
       "</table>\n",
       "<p>91 rows × 4 columns</p>\n",
       "</div>"
      ],
      "text/plain": [
       "    Temperature, T (Kelvin)  Rate constant, k (cm^3 mol^-1 s^-1)        1/T  \\\n",
       "0                     240.0                          6.570000e-13  0.004167   \n",
       "1                     296.0                          8.610000e-13  0.003378   \n",
       "2                     350.0                          1.250000e-12  0.002857   \n",
       "3                     400.0                          1.410000e-12  0.002500   \n",
       "4                     440.0                          1.620000e-12  0.002273   \n",
       "..                      ...                                   ...       ...   \n",
       "86                    465.0                          1.350000e-12  0.002151   \n",
       "87                    570.0                          2.060000e-12  0.001754   \n",
       "88                    597.0                          2.670000e-12  0.001675   \n",
       "89                    669.0                          2.790000e-12  0.001495   \n",
       "90                    803.0                          5.760000e-12  0.001245   \n",
       "\n",
       "    ln(k/(T^2.72))  \n",
       "0       -42.958430  \n",
       "1       -43.258460  \n",
       "2       -43.341456  \n",
       "3       -43.584215  \n",
       "4       -43.704622  \n",
       "..             ...  \n",
       "86      -44.037258  \n",
       "87      -44.168446  \n",
       "88      -44.034957  \n",
       "89      -44.300712  \n",
       "90      -44.072408  \n",
       "\n",
       "[91 rows x 4 columns]"
      ]
     },
     "execution_count": 5,
     "metadata": {},
     "output_type": "execute_result"
    }
   ],
   "source": [
    "data=pd.read_csv('OH-methanol_kT_data_csv.csv')\n",
    "data"
   ]
  },
  {
   "cell_type": "code",
   "execution_count": 6,
   "metadata": {},
   "outputs": [
    {
     "name": "stdout",
     "output_type": "stream",
     "text": [
      "X.shape (91,)   y.shape (91,)\n"
     ]
    }
   ],
   "source": [
    "# load feature variable x and target variable y\n",
    "X_series = data.iloc[:,2]\n",
    "y_series = data.iloc[:,3]\n",
    "X = np.array(X_series)\n",
    "y = np.array(y_series)\n",
    "\n",
    "# show variable shapes\n",
    "print(f'X.shape {X.shape}   y.shape {y.shape}')"
   ]
  },
  {
   "cell_type": "code",
   "execution_count": 7,
   "metadata": {},
   "outputs": [
    {
     "data": {
      "image/png": "[encoded data removed]",
      "text/plain": [
       "<Figure size 400x400 with 1 Axes>"
      ]
     },
     "metadata": {},
     "output_type": "display_data"
    }
   ],
   "source": [
    "# plot data\n",
    "fig, ax = plt.subplots(1,1,figsize=(4,4))\n",
    "ax.set_xlabel('1/T')\n",
    "ax.set_ylabel('ln(k/(T^2.72))')\n",
    "ax.scatter(X,y,color = 'blue')\n",
    "plt.show()"
   ]
  },
  {
   "cell_type": "markdown",
   "metadata": {},
   "source": [
    "## Linear Regression using Sklearn library"
   ]
  },
  {
   "cell_type": "code",
   "execution_count": 8,
   "metadata": {},
   "outputs": [
    {
     "data": {
      "text/html": [
       "<style>#sk-container-id-1 {\n",
       "  /* Definition of color scheme common for light and dark mode */\n",
       "  --sklearn-color-text: black;\n",
       "  --sklearn-color-line: gray;\n",
       "  /* Definition of color scheme for unfitted estimators */\n",
       "  --sklearn-color-unfitted-level-0: #fff5e6;\n",
       "  --sklearn-color-unfitted-level-1: #f6e4d2;\n",
       "  --sklearn-color-unfitted-level-2: #ffe0b3;\n",
       "  --sklearn-color-unfitted-level-3: chocolate;\n",
       "  /* Definition of color scheme for fitted estimators */\n",
       "  --sklearn-color-fitted-level-0: #f0f8ff;\n",
       "  --sklearn-color-fitted-level-1: #d4ebff;\n",
       "  --sklearn-color-fitted-level-2: #b3dbfd;\n",
       "  --sklearn-color-fitted-level-3: cornflowerblue;\n",
       "\n",
       "  /* Specific color for light theme */\n",
       "  --sklearn-color-text-on-default-background: var(--sg-text-color, var(--theme-code-foreground, var(--jp-content-font-color1, black)));\n",
       "  --sklearn-color-background: var(--sg-background-color, var(--theme-background, var(--jp-layout-color0, white)));\n",
       "  --sklearn-color-border-box: var(--sg-text-color, var(--theme-code-foreground, var(--jp-content-font-color1, black)));\n",
       "  --sklearn-color-icon: #696969;\n",
       "\n",
       "  @media (prefers-color-scheme: dark) {\n",
       "    /* Redefinition of color scheme for dark theme */\n",
       "    --sklearn-color-text-on-default-background: var(--sg-text-color, var(--theme-code-foreground, var(--jp-content-font-color1, white)));\n",
       "    --sklearn-color-background: var(--sg-background-color, var(--theme-background, var(--jp-layout-color0, #111)));\n",
       "    --sklearn-color-border-box: var(--sg-text-color, var(--theme-code-foreground, var(--jp-content-font-color1, white)));\n",
       "    --sklearn-color-icon: #878787;\n",
       "  }\n",
       "}\n",
       "\n",
       "#sk-container-id-1 {\n",
       "  color: var(--sklearn-color-text);\n",
       "}\n",
       "\n",
       "#sk-container-id-1 pre {\n",
       "  padding: 0;\n",
       "}\n",
       "\n",
       "#sk-container-id-1 input.sk-hidden--visually {\n",
       "  border: 0;\n",
       "  clip: rect(1px 1px 1px 1px);\n",
       "  clip: rect(1px, 1px, 1px, 1px);\n",
       "  height: 1px;\n",
       "  margin: -1px;\n",
       "  overflow: hidden;\n",
       "  padding: 0;\n",
       "  position: absolute;\n",
       "  width: 1px;\n",
       "}\n",
       "\n",
       "#sk-container-id-1 div.sk-dashed-wrapped {\n",
       "  border: 1px dashed var(--sklearn-color-line);\n",
       "  margin: 0 0.4em 0.5em 0.4em;\n",
       "  box-sizing: border-box;\n",
       "  padding-bottom: 0.4em;\n",
       "  background-color: var(--sklearn-color-background);\n",
       "}\n",
       "\n",
       "#sk-container-id-1 div.sk-container {\n",
       "  /* jupyter's `normalize.less` sets `[hidden] { display: none; }`\n",
       "     but bootstrap.min.css set `[hidden] { display: none !important; }`\n",
       "     so we also need the `!important` here to be able to override the\n",
       "     default hidden behavior on the sphinx rendered scikit-learn.org.\n",
       "     See: https://github.com/scikit-learn/scikit-learn/issues/21755 */\n",
       "  display: inline-block !important;\n",
       "  position: relative;\n",
       "}\n",
       "\n",
       "#sk-container-id-1 div.sk-text-repr-fallback {\n",
       "  display: none;\n",
       "}\n",
       "\n",
       "div.sk-parallel-item,\n",
       "div.sk-serial,\n",
       "div.sk-item {\n",
       "  /* draw centered vertical line to link estimators */\n",
       "  background-image: linear-gradient(var(--sklearn-color-text-on-default-background), var(--sklearn-color-text-on-default-background));\n",
       "  background-size: 2px 100%;\n",
       "  background-repeat: no-repeat;\n",
       "  background-position: center center;\n",
       "}\n",
       "\n",
       "/* Parallel-specific style estimator block */\n",
       "\n",
       "#sk-container-id-1 div.sk-parallel-item::after {\n",
       "  content: \"\";\n",
       "  width: 100%;\n",
       "  border-bottom: 2px solid var(--sklearn-color-text-on-default-background);\n",
       "  flex-grow: 1;\n",
       "}\n",
       "\n",
       "#sk-container-id-1 div.sk-parallel {\n",
       "  display: flex;\n",
       "  align-items: stretch;\n",
       "  justify-content: center;\n",
       "  background-color: var(--sklearn-color-background);\n",
       "  position: relative;\n",
       "}\n",
       "\n",
       "#sk-container-id-1 div.sk-parallel-item {\n",
       "  display: flex;\n",
       "  flex-direction: column;\n",
       "}\n",
       "\n",
       "#sk-container-id-1 div.sk-parallel-item:first-child::after {\n",
       "  align-self: flex-end;\n",
       "  width: 50%;\n",
       "}\n",
       "\n",
       "#sk-container-id-1 div.sk-parallel-item:last-child::after {\n",
       "  align-self: flex-start;\n",
       "  width: 50%;\n",
       "}\n",
       "\n",
       "#sk-container-id-1 div.sk-parallel-item:only-child::after {\n",
       "  width: 0;\n",
       "}\n",
       "\n",
       "/* Serial-specific style estimator block */\n",
       "\n",
       "#sk-container-id-1 div.sk-serial {\n",
       "  display: flex;\n",
       "  flex-direction: column;\n",
       "  align-items: center;\n",
       "  background-color: var(--sklearn-color-background);\n",
       "  padding-right: 1em;\n",
       "  padding-left: 1em;\n",
       "}\n",
       "\n",
       "\n",
       "/* Toggleable style: style used for estimator/Pipeline/ColumnTransformer box that is\n",
       "clickable and can be expanded/collapsed.\n",
       "- Pipeline and ColumnTransformer use this feature and define the default style\n",
       "- Estimators will overwrite some part of the style using the `sk-estimator` class\n",
       "*/\n",
       "\n",
       "/* Pipeline and ColumnTransformer style (default) */\n",
       "\n",
       "#sk-container-id-1 div.sk-toggleable {\n",
       "  /* Default theme specific background. It is overwritten whether we have a\n",
       "  specific estimator or a Pipeline/ColumnTransformer */\n",
       "  background-color: var(--sklearn-color-background);\n",
       "}\n",
       "\n",
       "/* Toggleable label */\n",
       "#sk-container-id-1 label.sk-toggleable__label {\n",
       "  cursor: pointer;\n",
       "  display: block;\n",
       "  width: 100%;\n",
       "  margin-bottom: 0;\n",
       "  padding: 0.5em;\n",
       "  box-sizing: border-box;\n",
       "  text-align: center;\n",
       "}\n",
       "\n",
       "#sk-container-id-1 label.sk-toggleable__label-arrow:before {\n",
       "  /* Arrow on the left of the label */\n",
       "  content: \"▸\";\n",
       "  float: left;\n",
       "  margin-right: 0.25em;\n",
       "  color: var(--sklearn-color-icon);\n",
       "}\n",
       "\n",
       "#sk-container-id-1 label.sk-toggleable__label-arrow:hover:before {\n",
       "  color: var(--sklearn-color-text);\n",
       "}\n",
       "\n",
       "/* Toggleable content - dropdown */\n",
       "\n",
       "#sk-container-id-1 div.sk-toggleable__content {\n",
       "  max-height: 0;\n",
       "  max-width: 0;\n",
       "  overflow: hidden;\n",
       "  text-align: left;\n",
       "  /* unfitted */\n",
       "  background-color: var(--sklearn-color-unfitted-level-0);\n",
       "}\n",
       "\n",
       "#sk-container-id-1 div.sk-toggleable__content.fitted {\n",
       "  /* fitted */\n",
       "  background-color: var(--sklearn-color-fitted-level-0);\n",
       "}\n",
       "\n",
       "#sk-container-id-1 div.sk-toggleable__content pre {\n",
       "  margin: 0.2em;\n",
       "  border-radius: 0.25em;\n",
       "  color: var(--sklearn-color-text);\n",
       "  /* unfitted */\n",
       "  background-color: var(--sklearn-color-unfitted-level-0);\n",
       "}\n",
       "\n",
       "#sk-container-id-1 div.sk-toggleable__content.fitted pre {\n",
       "  /* unfitted */\n",
       "  background-color: var(--sklearn-color-fitted-level-0);\n",
       "}\n",
       "\n",
       "#sk-container-id-1 input.sk-toggleable__control:checked~div.sk-toggleable__content {\n",
       "  /* Expand drop-down */\n",
       "  max-height: 200px;\n",
       "  max-width: 100%;\n",
       "  overflow: auto;\n",
       "}\n",
       "\n",
       "#sk-container-id-1 input.sk-toggleable__control:checked~label.sk-toggleable__label-arrow:before {\n",
       "  content: \"▾\";\n",
       "}\n",
       "\n",
       "/* Pipeline/ColumnTransformer-specific style */\n",
       "\n",
       "#sk-container-id-1 div.sk-label input.sk-toggleable__control:checked~label.sk-toggleable__label {\n",
       "  color: var(--sklearn-color-text);\n",
       "  background-color: var(--sklearn-color-unfitted-level-2);\n",
       "}\n",
       "\n",
       "#sk-container-id-1 div.sk-label.fitted input.sk-toggleable__control:checked~label.sk-toggleable__label {\n",
       "  background-color: var(--sklearn-color-fitted-level-2);\n",
       "}\n",
       "\n",
       "/* Estimator-specific style */\n",
       "\n",
       "/* Colorize estimator box */\n",
       "#sk-container-id-1 div.sk-estimator input.sk-toggleable__control:checked~label.sk-toggleable__label {\n",
       "  /* unfitted */\n",
       "  background-color: var(--sklearn-color-unfitted-level-2);\n",
       "}\n",
       "\n",
       "#sk-container-id-1 div.sk-estimator.fitted input.sk-toggleable__control:checked~label.sk-toggleable__label {\n",
       "  /* fitted */\n",
       "  background-color: var(--sklearn-color-fitted-level-2);\n",
       "}\n",
       "\n",
       "#sk-container-id-1 div.sk-label label.sk-toggleable__label,\n",
       "#sk-container-id-1 div.sk-label label {\n",
       "  /* The background is the default theme color */\n",
       "  color: var(--sklearn-color-text-on-default-background);\n",
       "}\n",
       "\n",
       "/* On hover, darken the color of the background */\n",
       "#sk-container-id-1 div.sk-label:hover label.sk-toggleable__label {\n",
       "  color: var(--sklearn-color-text);\n",
       "  background-color: var(--sklearn-color-unfitted-level-2);\n",
       "}\n",
       "\n",
       "/* Label box, darken color on hover, fitted */\n",
       "#sk-container-id-1 div.sk-label.fitted:hover label.sk-toggleable__label.fitted {\n",
       "  color: var(--sklearn-color-text);\n",
       "  background-color: var(--sklearn-color-fitted-level-2);\n",
       "}\n",
       "\n",
       "/* Estimator label */\n",
       "\n",
       "#sk-container-id-1 div.sk-label label {\n",
       "  font-family: monospace;\n",
       "  font-weight: bold;\n",
       "  display: inline-block;\n",
       "  line-height: 1.2em;\n",
       "}\n",
       "\n",
       "#sk-container-id-1 div.sk-label-container {\n",
       "  text-align: center;\n",
       "}\n",
       "\n",
       "/* Estimator-specific */\n",
       "#sk-container-id-1 div.sk-estimator {\n",
       "  font-family: monospace;\n",
       "  border: 1px dotted var(--sklearn-color-border-box);\n",
       "  border-radius: 0.25em;\n",
       "  box-sizing: border-box;\n",
       "  margin-bottom: 0.5em;\n",
       "  /* unfitted */\n",
       "  background-color: var(--sklearn-color-unfitted-level-0);\n",
       "}\n",
       "\n",
       "#sk-container-id-1 div.sk-estimator.fitted {\n",
       "  /* fitted */\n",
       "  background-color: var(--sklearn-color-fitted-level-0);\n",
       "}\n",
       "\n",
       "/* on hover */\n",
       "#sk-container-id-1 div.sk-estimator:hover {\n",
       "  /* unfitted */\n",
       "  background-color: var(--sklearn-color-unfitted-level-2);\n",
       "}\n",
       "\n",
       "#sk-container-id-1 div.sk-estimator.fitted:hover {\n",
       "  /* fitted */\n",
       "  background-color: var(--sklearn-color-fitted-level-2);\n",
       "}\n",
       "\n",
       "/* Specification for estimator info (e.g. \"i\" and \"?\") */\n",
       "\n",
       "/* Common style for \"i\" and \"?\" */\n",
       "\n",
       ".sk-estimator-doc-link,\n",
       "a:link.sk-estimator-doc-link,\n",
       "a:visited.sk-estimator-doc-link {\n",
       "  float: right;\n",
       "  font-size: smaller;\n",
       "  line-height: 1em;\n",
       "  font-family: monospace;\n",
       "  background-color: var(--sklearn-color-background);\n",
       "  border-radius: 1em;\n",
       "  height: 1em;\n",
       "  width: 1em;\n",
       "  text-decoration: none !important;\n",
       "  margin-left: 1ex;\n",
       "  /* unfitted */\n",
       "  border: var(--sklearn-color-unfitted-level-1) 1pt solid;\n",
       "  color: var(--sklearn-color-unfitted-level-1);\n",
       "}\n",
       "\n",
       ".sk-estimator-doc-link.fitted,\n",
       "a:link.sk-estimator-doc-link.fitted,\n",
       "a:visited.sk-estimator-doc-link.fitted {\n",
       "  /* fitted */\n",
       "  border: var(--sklearn-color-fitted-level-1) 1pt solid;\n",
       "  color: var(--sklearn-color-fitted-level-1);\n",
       "}\n",
       "\n",
       "/* On hover */\n",
       "div.sk-estimator:hover .sk-estimator-doc-link:hover,\n",
       ".sk-estimator-doc-link:hover,\n",
       "div.sk-label-container:hover .sk-estimator-doc-link:hover,\n",
       ".sk-estimator-doc-link:hover {\n",
       "  /* unfitted */\n",
       "  background-color: var(--sklearn-color-unfitted-level-3);\n",
       "  color: var(--sklearn-color-background);\n",
       "  text-decoration: none;\n",
       "}\n",
       "\n",
       "div.sk-estimator.fitted:hover .sk-estimator-doc-link.fitted:hover,\n",
       ".sk-estimator-doc-link.fitted:hover,\n",
       "div.sk-label-container:hover .sk-estimator-doc-link.fitted:hover,\n",
       ".sk-estimator-doc-link.fitted:hover {\n",
       "  /* fitted */\n",
       "  background-color: var(--sklearn-color-fitted-level-3);\n",
       "  color: var(--sklearn-color-background);\n",
       "  text-decoration: none;\n",
       "}\n",
       "\n",
       "/* Span, style for the box shown on hovering the info icon */\n",
       ".sk-estimator-doc-link span {\n",
       "  display: none;\n",
       "  z-index: 9999;\n",
       "  position: relative;\n",
       "  font-weight: normal;\n",
       "  right: .2ex;\n",
       "  padding: .5ex;\n",
       "  margin: .5ex;\n",
       "  width: min-content;\n",
       "  min-width: 20ex;\n",
       "  max-width: 50ex;\n",
       "  color: var(--sklearn-color-text);\n",
       "  box-shadow: 2pt 2pt 4pt #999;\n",
       "  /* unfitted */\n",
       "  background: var(--sklearn-color-unfitted-level-0);\n",
       "  border: .5pt solid var(--sklearn-color-unfitted-level-3);\n",
       "}\n",
       "\n",
       ".sk-estimator-doc-link.fitted span {\n",
       "  /* fitted */\n",
       "  background: var(--sklearn-color-fitted-level-0);\n",
       "  border: var(--sklearn-color-fitted-level-3);\n",
       "}\n",
       "\n",
       ".sk-estimator-doc-link:hover span {\n",
       "  display: block;\n",
       "}\n",
       "\n",
       "/* \"?\"-specific style due to the `<a>` HTML tag */\n",
       "\n",
       "#sk-container-id-1 a.estimator_doc_link {\n",
       "  float: right;\n",
       "  font-size: 1rem;\n",
       "  line-height: 1em;\n",
       "  font-family: monospace;\n",
       "  background-color: var(--sklearn-color-background);\n",
       "  border-radius: 1rem;\n",
       "  height: 1rem;\n",
       "  width: 1rem;\n",
       "  text-decoration: none;\n",
       "  /* unfitted */\n",
       "  color: var(--sklearn-color-unfitted-level-1);\n",
       "  border: var(--sklearn-color-unfitted-level-1) 1pt solid;\n",
       "}\n",
       "\n",
       "#sk-container-id-1 a.estimator_doc_link.fitted {\n",
       "  /* fitted */\n",
       "  border: var(--sklearn-color-fitted-level-1) 1pt solid;\n",
       "  color: var(--sklearn-color-fitted-level-1);\n",
       "}\n",
       "\n",
       "/* On hover */\n",
       "#sk-container-id-1 a.estimator_doc_link:hover {\n",
       "  /* unfitted */\n",
       "  background-color: var(--sklearn-color-unfitted-level-3);\n",
       "  color: var(--sklearn-color-background);\n",
       "  text-decoration: none;\n",
       "}\n",
       "\n",
       "#sk-container-id-1 a.estimator_doc_link.fitted:hover {\n",
       "  /* fitted */\n",
       "  background-color: var(--sklearn-color-fitted-level-3);\n",
       "}\n",
       "</style><div id=\"sk-container-id-1\" class=\"sk-top-container\"><div class=\"sk-text-repr-fallback\"><pre>LinearRegression()</pre><b>In a Jupyter environment, please rerun this cell to show the HTML representation or trust the notebook. <br />On GitHub, the HTML representation is unable to render, please try loading this page with nbviewer.org.</b></div><div class=\"sk-container\" hidden><div class=\"sk-item\"><div class=\"sk-estimator fitted sk-toggleable\"><input class=\"sk-toggleable__control sk-hidden--visually\" id=\"sk-estimator-id-1\" type=\"checkbox\" checked><label for=\"sk-estimator-id-1\" class=\"sk-toggleable__label fitted sk-toggleable__label-arrow fitted\">&nbsp;&nbsp;LinearRegression<a class=\"sk-estimator-doc-link fitted\" rel=\"noreferrer\" target=\"_blank\" href=\"https://scikit-learn.org/1.5/modules/generated/sklearn.linear_model.LinearRegression.html\">?<span>Documentation for LinearRegression</span></a><span class=\"sk-estimator-doc-link fitted\">i<span>Fitted</span></span></label><div class=\"sk-toggleable__content fitted\"><pre>LinearRegression()</pre></div> </div></div></div></div>"
      ],
      "text/plain": [
       "LinearRegression()"
      ]
     },
     "execution_count": 8,
     "metadata": {},
     "output_type": "execute_result"
    }
   ],
   "source": [
    "# Linear Regression model\n",
    "model = LinearRegression()\n",
    "\n",
    "# convert X to a 2-D matrix\n",
    "model.fit(X.reshape(-1,1),y)"
   ]
  },
  {
   "cell_type": "code",
   "execution_count": 9,
   "metadata": {},
   "outputs": [
    {
     "name": "stdout",
     "output_type": "stream",
     "text": [
      "slope = [396.29602168], intercept = -44.58845794879121\n"
     ]
    }
   ],
   "source": [
    "# print parameters\n",
    "w = model.coef_\n",
    "b = model.intercept_\n",
    "print(f'slope = {w}, intercept = {b}')"
   ]
  },
  {
   "cell_type": "code",
   "execution_count": 10,
   "metadata": {},
   "outputs": [
    {
     "data": {
      "image/png": "[encoded data removed]",
      "text/plain": [
       "<Figure size 400x400 with 1 Axes>"
      ]
     },
     "metadata": {},
     "output_type": "display_data"
    }
   ],
   "source": [
    "# make predictions\n",
    "y_pred = w*X + b\n",
    "\n",
    "# plot results\n",
    "fig, ax = plt.subplots(1,1,figsize=(4,4))\n",
    "ax.set_xlabel('1/T')\n",
    "ax.set_ylabel('ln(k/(T^2.72))')\n",
    "ax.scatter(X,y,color = 'blue', label='actual')\n",
    "ax.plot(X,y_pred, color='red', label='prediction')\n",
    "ax.legend(loc='upper left')\n",
    "plt.show()"
   ]
  },
  {
   "cell_type": "code",
   "execution_count": 11,
   "metadata": {},
   "outputs": [
    {
     "name": "stdout",
     "output_type": "stream",
     "text": [
      "loss: 0.009653962645394316\n"
     ]
    }
   ],
   "source": [
    "# calculate error\n",
    "loss = mean_squared_error(y, y_pred)\n",
    "print(f'loss: {loss}')"
   ]
  },
  {
   "cell_type": "markdown",
   "metadata": {},
   "source": [
    "## Linear Regression by Gradient Descent without using the sklearn library"
   ]
  },
  {
   "cell_type": "code",
   "execution_count": 12,
   "metadata": {},
   "outputs": [],
   "source": [
    "# multiply variables by 1000 for larger gradient\n",
    "X=1000*X\n",
    "y=1000*y"
   ]
  },
  {
   "cell_type": "code",
   "execution_count": 13,
   "metadata": {},
   "outputs": [],
   "source": [
    "# make linear regression function\n",
    "def linear(X, w, b):\n",
    "    return np.dot(X, w) + b"
   ]
  },
  {
   "cell_type": "code",
   "execution_count": 14,
   "metadata": {},
   "outputs": [],
   "source": [
    "# calculate error\n",
    "def calc_loss(X, y, w, b):\n",
    "    m = len(y)\n",
    "    loss = 0.0\n",
    "    for i in range(m):\n",
    "        loss += (linear(X[i], w, b) - y[i]) ** 2\n",
    "    loss /= (m*1000000)\n",
    "    return loss"
   ]
  },
  {
   "cell_type": "code",
   "execution_count": 15,
   "metadata": {},
   "outputs": [],
   "source": [
    "# Gradient function\n",
    "def gradient(X, y, w, b):\n",
    "    m = len(y)\n",
    "    dloss_dw = 0.0\n",
    "    dloss_db = 0.0\n",
    "    for i in range(m):\n",
    "        error = linear(X[i], w, b) - y[i]\n",
    "        dloss_dw += error * X[i]\n",
    "        dloss_db += error\n",
    "    dloss_dw *= (2/m)\n",
    "    dloss_db *= (2/m)\n",
    "    return dloss_dw, dloss_db"
   ]
  },
  {
   "cell_type": "code",
   "execution_count": 16,
   "metadata": {},
   "outputs": [],
   "source": [
    "# Gradient descent function\n",
    "def GD(X, y, w_in, b_in, lrn_rate, n_iters):\n",
    "    w = copy.deepcopy(w_in)\n",
    "    b = b_in\n",
    "\n",
    "    error_hist = []\n",
    "    par_hist = []\n",
    "\n",
    "    for i in range(n_iters):\n",
    "        dloss_dw, dloss_db = gradient(X, y, w, b)\n",
    "\n",
    "        w = w - lrn_rate * dloss_dw\n",
    "        b = b - lrn_rate * dloss_db\n",
    "\n",
    "        if i < 100000:\n",
    "            error_hist.append(calc_loss(X, y, w, b))\n",
    "            par_hist.append([w, b])\n",
    "\n",
    "        if i % math.ceil(n_iters / 10) == 0:\n",
    "            print(f'Iteration: {i}  Loss: {error_hist[-1]} ',\n",
    "                  f'dloss_dw: {dloss_dw}   dloss_db: {dloss_db} ',\n",
    "                  f'w: {w}   b: {b}')\n",
    "    \n",
    "    return w, b, error_hist, par_hist"
   ]
  },
  {
   "cell_type": "code",
   "execution_count": 17,
   "metadata": {},
   "outputs": [
    {
     "name": "stdout",
     "output_type": "stream",
     "text": [
      "Iteration: 0  Loss: 1834.4166642218768  dloss_dw: 231518.15930179475   dloss_db: 87057.2750723077  w: -231.51815930179475   b: -87.0572750723077\n",
      "Iteration: 8500  Loss: 0.9518915628832559  dloss_dw: -237.5689172939295   dloss_db: 765.9376510442747  w: -300.08996256442447   b: -42343.26421272701\n",
      "Iteration: 17000  Loss: 0.012510967008723511  dloss_dw: -13.081720166139714   dloss_db: 42.17631721219264  w: 357.94956340890076   b: -44464.82647162584\n",
      "Iteration: 25500  Loss: 0.009662625507002202  dloss_dw: -0.7203442456020065   dloss_db: 2.3224367299499336  w: 394.18447593443574   b: -44581.65018788354\n",
      "Iteration: 34000  Loss: 0.009653988912477538  dloss_dw: -0.039665718596186283   dloss_db: 0.12788485868109242  w: 396.17974952203275   b: -44588.083079788245\n",
      "Iteration: 42500  Loss: 0.009653962725040132  dloss_dw: -0.0021841907977061085   dloss_db: 0.007041973083447614  w: 396.28961915916346   b: -44588.43730664902\n",
      "Iteration: 51000  Loss: 0.009653962645635927  dloss_dw: -0.00012027239269354926   dloss_db: 0.0003877658787782171  w: 396.29566912502094   b: -44588.456812132696\n",
      "Iteration: 59500  Loss: 0.009653962645395116  dloss_dw: -6.623042941116338e-06   dloss_db: 2.1352250689313145e-05  w: 396.29600226605714   b: -44588.45788620112\n",
      "Iteration: 68000  Loss: 0.009653962645394507  dloss_dw: -3.646866099946957e-07   dloss_db: 1.1757710836009011e-06  w: 396.29602061047495   b: -44588.45794534467\n",
      "Iteration: 76500  Loss: 0.00965396264539444  dloss_dw: -1.998556178670277e-08   dloss_db: 6.496790504840377e-08  w: 396.2960216204611   b: -44588.4579486009\n",
      "slope: 396.29602167637114, intercept: -44588.45794878108, loss: 0.009653962645394379\n"
     ]
    }
   ],
   "source": [
    "# Initialize parameters\n",
    "m = len(X)\n",
    "w_in = 0.0\n",
    "b_in = 0.0\n",
    "\n",
    "iters = 85000\n",
    "lrn_rate = 0.001\n",
    "\n",
    "# Run gradient descent\n",
    "w, b, error_hist, par_hist = GD(X, y, w_in, b_in, lrn_rate, iters)\n",
    "\n",
    "print(f'slope: {w}, intercept: {b}, loss: {error_hist[-1]}')"
   ]
  },
  {
   "cell_type": "code",
   "execution_count": 18,
   "metadata": {},
   "outputs": [],
   "source": [
    "# In Progress"
   ]
  }
 ],
 "metadata": {
  "kernelspec": {
   "display_name": "TF",
   "language": "python",
   "name": "python3"
  },
  "language_info": {
   "codemirror_mode": {
    "name": "ipython",
    "version": 3
   },
   "file_extension": ".py",
   "mimetype": "text/x-python",
   "name": "python",
   "nbconvert_exporter": "python",
   "pygments_lexer": "ipython3",
   "version": "3.10.13"
  }
 },
 "nbformat": 4,
 "nbformat_minor": 2
}
