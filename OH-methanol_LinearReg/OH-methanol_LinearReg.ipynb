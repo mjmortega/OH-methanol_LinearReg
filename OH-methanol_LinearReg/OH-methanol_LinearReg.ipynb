{
 "cells": [
  {
   "cell_type": "code",
   "execution_count": 18,
   "metadata": {},
   "outputs": [],
   "source": [
    "# import libraries\n",
    "import numpy as np\n",
    "import pandas as pd\n",
    "import matplotlib.pyplot as plt\n",
    "from sklearn.linear_model import LinearRegression\n",
    "from sklearn.model_selection import train_test_split\n",
    "from sklearn.metrics import mean_squared_error"
   ]
  },
  {
   "cell_type": "code",
   "execution_count": 19,
   "metadata": {},
   "outputs": [
    {
     "data": {
      "text/html": [
       "<div>\n",
       "<style scoped>\n",
       "    .dataframe tbody tr th:only-of-type {\n",
       "        vertical-align: middle;\n",
       "    }\n",
       "\n",
       "    .dataframe tbody tr th {\n",
       "        vertical-align: top;\n",
       "    }\n",
       "\n",
       "    .dataframe thead th {\n",
       "        text-align: right;\n",
       "    }\n",
       "</style>\n",
       "<table border=\"1\" class=\"dataframe\">\n",
       "  <thead>\n",
       "    <tr style=\"text-align: right;\">\n",
       "      <th></th>\n",
       "      <th>Temperature, T (Kelvin)</th>\n",
       "      <th>Rate constant, k (cm^3 mol^-1 s^-1)</th>\n",
       "      <th>1/T</th>\n",
       "      <th>ln(k/(T^2.72))</th>\n",
       "    </tr>\n",
       "  </thead>\n",
       "  <tbody>\n",
       "    <tr>\n",
       "      <th>0</th>\n",
       "      <td>240.0</td>\n",
       "      <td>6.570000e-13</td>\n",
       "      <td>0.004167</td>\n",
       "      <td>-42.958430</td>\n",
       "    </tr>\n",
       "    <tr>\n",
       "      <th>1</th>\n",
       "      <td>296.0</td>\n",
       "      <td>8.610000e-13</td>\n",
       "      <td>0.003378</td>\n",
       "      <td>-43.258460</td>\n",
       "    </tr>\n",
       "    <tr>\n",
       "      <th>2</th>\n",
       "      <td>350.0</td>\n",
       "      <td>1.250000e-12</td>\n",
       "      <td>0.002857</td>\n",
       "      <td>-43.341456</td>\n",
       "    </tr>\n",
       "    <tr>\n",
       "      <th>3</th>\n",
       "      <td>400.0</td>\n",
       "      <td>1.410000e-12</td>\n",
       "      <td>0.002500</td>\n",
       "      <td>-43.584215</td>\n",
       "    </tr>\n",
       "    <tr>\n",
       "      <th>4</th>\n",
       "      <td>440.0</td>\n",
       "      <td>1.620000e-12</td>\n",
       "      <td>0.002273</td>\n",
       "      <td>-43.704622</td>\n",
       "    </tr>\n",
       "    <tr>\n",
       "      <th>...</th>\n",
       "      <td>...</td>\n",
       "      <td>...</td>\n",
       "      <td>...</td>\n",
       "      <td>...</td>\n",
       "    </tr>\n",
       "    <tr>\n",
       "      <th>86</th>\n",
       "      <td>465.0</td>\n",
       "      <td>1.350000e-12</td>\n",
       "      <td>0.002151</td>\n",
       "      <td>-44.037258</td>\n",
       "    </tr>\n",
       "    <tr>\n",
       "      <th>87</th>\n",
       "      <td>570.0</td>\n",
       "      <td>2.060000e-12</td>\n",
       "      <td>0.001754</td>\n",
       "      <td>-44.168446</td>\n",
       "    </tr>\n",
       "    <tr>\n",
       "      <th>88</th>\n",
       "      <td>597.0</td>\n",
       "      <td>2.670000e-12</td>\n",
       "      <td>0.001675</td>\n",
       "      <td>-44.034957</td>\n",
       "    </tr>\n",
       "    <tr>\n",
       "      <th>89</th>\n",
       "      <td>669.0</td>\n",
       "      <td>2.790000e-12</td>\n",
       "      <td>0.001495</td>\n",
       "      <td>-44.300712</td>\n",
       "    </tr>\n",
       "    <tr>\n",
       "      <th>90</th>\n",
       "      <td>803.0</td>\n",
       "      <td>5.760000e-12</td>\n",
       "      <td>0.001245</td>\n",
       "      <td>-44.072408</td>\n",
       "    </tr>\n",
       "  </tbody>\n",
       "</table>\n",
       "<p>91 rows × 4 columns</p>\n",
       "</div>"
      ],
      "text/plain": [
       "    Temperature, T (Kelvin)  Rate constant, k (cm^3 mol^-1 s^-1)        1/T  \\\n",
       "0                     240.0                          6.570000e-13  0.004167   \n",
       "1                     296.0                          8.610000e-13  0.003378   \n",
       "2                     350.0                          1.250000e-12  0.002857   \n",
       "3                     400.0                          1.410000e-12  0.002500   \n",
       "4                     440.0                          1.620000e-12  0.002273   \n",
       "..                      ...                                   ...       ...   \n",
       "86                    465.0                          1.350000e-12  0.002151   \n",
       "87                    570.0                          2.060000e-12  0.001754   \n",
       "88                    597.0                          2.670000e-12  0.001675   \n",
       "89                    669.0                          2.790000e-12  0.001495   \n",
       "90                    803.0                          5.760000e-12  0.001245   \n",
       "\n",
       "    ln(k/(T^2.72))  \n",
       "0       -42.958430  \n",
       "1       -43.258460  \n",
       "2       -43.341456  \n",
       "3       -43.584215  \n",
       "4       -43.704622  \n",
       "..             ...  \n",
       "86      -44.037258  \n",
       "87      -44.168446  \n",
       "88      -44.034957  \n",
       "89      -44.300712  \n",
       "90      -44.072408  \n",
       "\n",
       "[91 rows x 4 columns]"
      ]
     },
     "execution_count": 19,
     "metadata": {},
     "output_type": "execute_result"
    }
   ],
   "source": [
    "# load data\n",
    "data=pd.read_csv('OH-methanol_kT_data_csv.csv')\n",
    "data"
   ]
  },
  {
   "cell_type": "code",
   "execution_count": 20,
   "metadata": {},
   "outputs": [
    {
     "name": "stdout",
     "output_type": "stream",
     "text": [
      "X.shape (91,)   y.shape (91,)\n"
     ]
    }
   ],
   "source": [
    "# load feature variable x and target variable y\n",
    "X = data.iloc[:,2]\n",
    "y = data.iloc[:,3]\n",
    "\n",
    "# show variable shapes\n",
    "print(f'X.shape {X.shape}   y.shape {y.shape}')"
   ]
  },
  {
   "cell_type": "code",
   "execution_count": 23,
   "metadata": {},
   "outputs": [
    {
     "name": "stdout",
     "output_type": "stream",
     "text": [
      "X_train.shape (54,)   y_train.shape (54,)\n",
      "X_cv (18,)   y_cv (18,)\n",
      "X_test (19,)   y_test (19,)\n"
     ]
    }
   ],
   "source": [
    "# split data into training, cross-validation, and test set\n",
    "X_train, X_temp, y_train, y_temp = train_test_split(X,y,test_size=0.40, random_state=29)\n",
    "X_cv, X_test, y_cv, y_test = train_test_split(X_temp,y_temp,test_size=0.50, random_state=29)\n",
    "\n",
    "# show training, cross-validation, and test set shape\n",
    "print(f'X_train.shape {X_train.shape}   y_train.shape {y_train.shape}')\n",
    "print(f'X_cv {X_cv.shape}   y_cv {y_cv.shape}')\n",
    "print(f'X_test {X_test.shape}   y_test {y_test.shape}')\n"
   ]
  }
 ],
 "metadata": {
  "kernelspec": {
   "display_name": "TF",
   "language": "python",
   "name": "python3"
  },
  "language_info": {
   "codemirror_mode": {
    "name": "ipython",
    "version": 3
   },
   "file_extension": ".py",
   "mimetype": "text/x-python",
   "name": "python",
   "nbconvert_exporter": "python",
   "pygments_lexer": "ipython3",
   "version": "3.10.13"
  }
 },
 "nbformat": 4,
 "nbformat_minor": 2
}
